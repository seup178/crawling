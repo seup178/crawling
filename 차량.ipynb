{
 "cells": [
  {
   "cell_type": "code",
   "execution_count": 1,
   "id": "820847be",
   "metadata": {},
   "outputs": [],
   "source": [
    "from selenium import webdriver as wd\n",
    "from selenium.webdriver.common.by import By\n",
    "\n",
    "\n",
    "driver = wd.Chrome()\n",
    "import time"
   ]
  },
  {
   "cell_type": "code",
   "execution_count": 2,
   "id": "9356b514",
   "metadata": {},
   "outputs": [],
   "source": [
    "url = \"http://www.encar.com/dc/dc_carsearchlist.do?carType=kor&searchType=model&wtClick_kor=003&TG.R=A#!%7B%22action%22%3A%22(And.Hidden.N._.CarType.Y._.SellType.%EC%9D%BC%EB%B0%98.)%22%2C%22toggle%22%3A%7B%7D%2C%22layer%22%3A%22%22%2C%22sort%22%3A%22ModifiedDate%22%2C%22page%22%3A1%2C%22limit%22%3A20%7D\"\n",
    "driver.get(url)\n",
    "#판매방식은 일반만\n",
    "#time.sleep(3)"
   ]
  },
  {
   "cell_type": "code",
   "execution_count": 8,
   "id": "5e69fb94",
   "metadata": {},
   "outputs": [],
   "source": [
    "import openpyxl\n",
    "car = openpyxl.Workbook()\n",
    "sheet = car.active\n",
    "sheet.append([\"name\", \"company\", \"year\", \"fuel\", \"km\", \"area\", \"price\"])"
   ]
  },
  {
   "cell_type": "code",
   "execution_count": 9,
   "id": "b5a516e3",
   "metadata": {},
   "outputs": [],
   "source": [
    "for i in range(3):\n",
    "    i += 1 \n",
    "    i = str(i)\n",
    "    driver.find_element(By.XPATH, '//*[@id=\"pagination\"]/span['+i+']/a').click()\n",
    "    try:\n",
    "        for a in range(21):\n",
    "            a +=1\n",
    "            a = str(a)\n",
    "            try:\n",
    "                name: driver.find_element(By.XPATH, '//*[@id=\"sr_normal\"]/tr[' + a + ']/td[2]/a/span[1]/em').text   \n",
    "                company: driver.find_element(By.XPATH, '//*[@id=\"sr_normal\"]/tr[' + a + ']/td[2]/a/span[1]/strong').text\n",
    "                year: driver.find_element(By.XPATH, '//*[@id=\"sr_normal\"]/tr[' + a + ']/td[2]/span[1]/span[1]').text\n",
    "                fuel : driver.find_element(By.XPATH, '//*[@id=\"sr_normal\"]/tr[' + a + ']/td[2]/span[1]/span[3]').text\n",
    "                km: driver.find_element(By.XPATH, '//*[@id=\"sr_normal\"]/tr[' + a + ']/td[2]/span[1]/span[2]').text\n",
    "                area: driver.find_element(By.XPATH, '//*[@id=\"sr_normal\"]/tr[' + a + ']/td[2]/span[1]/span[4]').text\n",
    "                price: driver.find_element(By.XPATH, '//*[@id=\"sr_normal\"]/tr[' + a + ']/td[3]/strong').text\n",
    "                sheet.append([name, company, year, fuel, km, area, price])\n",
    "            except:\n",
    "                pass\n",
    "    except:\n",
    "        pass\n",
    "            \n",
    "            \n",
    "            \n",
    "            "
   ]
  },
  {
   "cell_type": "code",
   "execution_count": 13,
   "id": "55688ce2",
   "metadata": {},
   "outputs": [
    {
     "name": "stdout",
     "output_type": "stream",
     "text": [
      "코란도 투리스모\n",
      "더 뉴 모하비\n",
      "더 뉴 모닝\n",
      "GV80\n",
      "G80 (RG3)\n",
      "SM6\n",
      "더 뉴 K5 2세대\n",
      "싼타페 더 프라임\n",
      "스팅어 마이스터\n",
      "스팅어 마이스터\n",
      "\n",
      "더 뉴 그랜저 IG 하이브리드\n",
      "카니발 4세대\n",
      "캡티바\n",
      "올란도\n",
      "K5 3세대\n",
      "올 뉴 투싼\n",
      "코나 일렉트릭\n",
      "GV80\n",
      "티볼리\n",
      "코나 일렉트릭\n"
     ]
    }
   ],
   "source": [
    "for i in range(21):\n",
    "    i +=1\n",
    "    i = str(i)\n",
    "    c = driver.find_element(By.XPATH, '//*[@id=\"sr_normal\"]/tr[' + i + ']/td[2]/a/span[1]/em').text   \n",
    "    print(c)\n",
    "            "
   ]
  },
  {
   "cell_type": "code",
   "execution_count": 10,
   "id": "d00ff772",
   "metadata": {},
   "outputs": [],
   "source": [
    "car.save(\"차량.xlsx\")"
   ]
  },
  {
   "cell_type": "code",
   "execution_count": null,
   "id": "894e49c6",
   "metadata": {},
   "outputs": [],
   "source": []
  }
 ],
 "metadata": {
  "kernelspec": {
   "display_name": "Python 3 (ipykernel)",
   "language": "python",
   "name": "python3"
  },
  "language_info": {
   "codemirror_mode": {
    "name": "ipython",
    "version": 3
   },
   "file_extension": ".py",
   "mimetype": "text/x-python",
   "name": "python",
   "nbconvert_exporter": "python",
   "pygments_lexer": "ipython3",
   "version": "3.11.3"
  }
 },
 "nbformat": 4,
 "nbformat_minor": 5
}
