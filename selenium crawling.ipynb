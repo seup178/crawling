{
 "cells": [
  {
   "cell_type": "code",
   "execution_count": 8,
   "id": "328d61e1",
   "metadata": {},
   "outputs": [],
   "source": [
    "from selenium import webdriver as wd\n",
    "from selenium.webdriver.common.by import By\n",
    "\n",
    "\n",
    "driver = wd.Chrome()\n",
    "import time"
   ]
  },
  {
   "cell_type": "code",
   "execution_count": 9,
   "id": "d533b05e",
   "metadata": {},
   "outputs": [],
   "source": [
    "url = \"https://www.bobaedream.co.kr/cyber/CyberCar.php?gubun=K&search_cat=C3_s0&page=1&order=S11&view_size=70\"\n",
    "driver.get(url)\n"
   ]
  },
  {
   "cell_type": "code",
   "execution_count": 10,
   "id": "ed565b8f",
   "metadata": {},
   "outputs": [],
   "source": [
    "import openpyxl\n",
    "car = openpyxl.Workbook()\n",
    "sheet = car.active\n",
    "sheet.append([\"name\", \"year\", \"fuel\", \"km\", \"area\", \"price\"])"
   ]
  },
  {
   "cell_type": "code",
   "execution_count": 11,
   "id": "5e3ac429",
   "metadata": {},
   "outputs": [],
   "source": [
    "from selenium.webdriver.common.by import By\n",
    "from selenium.webdriver.support.ui import WebDriverWait\n",
    "from selenium.webdriver.support import expected_conditions as EC\n",
    "from selenium.common.exceptions import NoSuchElementException \n",
    "# '다음' 버튼 클릭하는 부분\n",
    "for i in range(11):\n",
    "    i += 1\n",
    "    i = str(i)\n",
    "    driver.find_element(By.XPATH, '//*[@id=\"listCont\"]/div[2]/div/a[' + i + ']').click()\n",
    "\n",
    "    WebDriverWait(driver, 10).until(EC.invisibility_of_element_located((By.CLASS_NAME, 'page-loading')))\n",
    "\n",
    "    for a in range(1, 72):\n",
    "        a = str(a)\n",
    "        try:\n",
    "            name = driver.find_element(By.XPATH, '//*[@id=\"listCont\"]/div[1]/ul/li[' + a + ']/div/div[2]/p[1]/a').text\n",
    "            year = driver.find_element(By.XPATH, '//*[@id=\"listCont\"]/div[1]/ul/li[' + a + ']/div/div[3]/span').text\n",
    "            fuel = driver.find_element(By.XPATH, '//*[@id=\"listCont\"]/div[1]/ul/li[' + a + ']/div/div[4]/span').text\n",
    "            km = driver.find_element(By.XPATH, '//*[@id=\"listCont\"]/div[1]/ul/li[' + a + ']/div/div[5]/span').text\n",
    "            area = driver.find_element(By.XPATH, '//*[@id=\"listCont\"]/div[1]/ul/li[' + a + ']/div/div[7]/div/div[2]/ul/li[1]/span').text\n",
    "            price = driver.find_element(By.XPATH, '//*[@id=\"listCont\"]/div[1]/ul/li[' + a + ']/div/div[6]/strong').text\n",
    "            sheet.append([name, year, fuel, km, area, price])\n",
    "        except NoSuchElementException:  # 수정된 줄\n",
    "            pass"
   ]
  },
  {
   "cell_type": "code",
   "execution_count": 12,
   "id": "fedd985d",
   "metadata": {},
   "outputs": [],
   "source": [
    "car.save(\"차량1.xlsx\")"
   ]
  },
  {
   "cell_type": "code",
   "execution_count": 4,
   "id": "44cad48b",
   "metadata": {},
   "outputs": [
    {
     "ename": "TimeoutException",
     "evalue": "Message: \n",
     "output_type": "error",
     "traceback": [
      "\u001b[1;31m---------------------------------------------------------------------------\u001b[0m",
      "\u001b[1;31mTimeoutException\u001b[0m                          Traceback (most recent call last)",
      "Cell \u001b[1;32mIn[4], line 19\u001b[0m\n\u001b[0;32m     16\u001b[0m         next_button \u001b[38;5;241m=\u001b[39m driver\u001b[38;5;241m.\u001b[39mfind_element(By\u001b[38;5;241m.\u001b[39mXPATH, \u001b[38;5;124mf\u001b[39m\u001b[38;5;124m'\u001b[39m\u001b[38;5;124m//*[@id=\u001b[39m\u001b[38;5;124m\"\u001b[39m\u001b[38;5;124mlistCont\u001b[39m\u001b[38;5;124m\"\u001b[39m\u001b[38;5;124m]/div[2]/div/a[\u001b[39m\u001b[38;5;132;01m{\u001b[39;00mi\u001b[38;5;250m \u001b[39m\u001b[38;5;241m%\u001b[39m\u001b[38;5;250m \u001b[39m\u001b[38;5;241m10\u001b[39m\u001b[38;5;250m \u001b[39m\u001b[38;5;241m+\u001b[39m\u001b[38;5;250m \u001b[39m\u001b[38;5;241m2\u001b[39m\u001b[38;5;132;01m}\u001b[39;00m\u001b[38;5;124m]\u001b[39m\u001b[38;5;124m'\u001b[39m)\n\u001b[0;32m     17\u001b[0m next_button\u001b[38;5;241m.\u001b[39mclick()\n\u001b[1;32m---> 19\u001b[0m \u001b[43mWebDriverWait\u001b[49m\u001b[43m(\u001b[49m\u001b[43mdriver\u001b[49m\u001b[43m,\u001b[49m\u001b[43m \u001b[49m\u001b[38;5;241;43m10\u001b[39;49m\u001b[43m)\u001b[49m\u001b[38;5;241;43m.\u001b[39;49m\u001b[43muntil\u001b[49m\u001b[43m(\u001b[49m\u001b[43mEC\u001b[49m\u001b[38;5;241;43m.\u001b[39;49m\u001b[43minvisibility_of_element_located\u001b[49m\u001b[43m(\u001b[49m\u001b[43m(\u001b[49m\u001b[43mBy\u001b[49m\u001b[38;5;241;43m.\u001b[39;49m\u001b[43mCLASS_NAME\u001b[49m\u001b[43m,\u001b[49m\u001b[43m \u001b[49m\u001b[38;5;124;43m'\u001b[39;49m\u001b[38;5;124;43mpage-loading\u001b[39;49m\u001b[38;5;124;43m'\u001b[39;49m\u001b[43m)\u001b[49m\u001b[43m)\u001b[49m\u001b[43m)\u001b[49m\n\u001b[0;32m     21\u001b[0m \u001b[38;5;28;01mfor\u001b[39;00m a \u001b[38;5;129;01min\u001b[39;00m \u001b[38;5;28mrange\u001b[39m(\u001b[38;5;241m1\u001b[39m, \u001b[38;5;241m72\u001b[39m):\n\u001b[0;32m     22\u001b[0m     a \u001b[38;5;241m=\u001b[39m \u001b[38;5;28mstr\u001b[39m(a)\n",
      "File \u001b[1;32m~\\AppData\\Local\\Programs\\Python\\Python311\\Lib\\site-packages\\selenium\\webdriver\\support\\wait.py:95\u001b[0m, in \u001b[0;36mWebDriverWait.until\u001b[1;34m(self, method, message)\u001b[0m\n\u001b[0;32m     93\u001b[0m     \u001b[38;5;28;01mif\u001b[39;00m time\u001b[38;5;241m.\u001b[39mmonotonic() \u001b[38;5;241m>\u001b[39m end_time:\n\u001b[0;32m     94\u001b[0m         \u001b[38;5;28;01mbreak\u001b[39;00m\n\u001b[1;32m---> 95\u001b[0m \u001b[38;5;28;01mraise\u001b[39;00m TimeoutException(message, screen, stacktrace)\n",
      "\u001b[1;31mTimeoutException\u001b[0m: Message: \n"
     ]
    }
   ],
   "source": [
    "from selenium.webdriver.common.by import By\n",
    "from selenium.webdriver.support.ui import WebDriverWait\n",
    "from selenium.webdriver.support import expected_conditions as EC\n",
    "from selenium.common.exceptions import NoSuchElementException \n",
    "\n",
    "sheet = []\n",
    "\n",
    "for i in range(40):  # 40페이지\n",
    "    try:\n",
    "        if i < 11:\n",
    "            next_button = driver.find_element(By.XPATH, f'//*[@id=\"listCont\"]/div[2]/div/a[{i+1}]')\n",
    "        else:\n",
    "            if i % 10 == 0:\n",
    "                next_button = driver.find_element(By.XPATH, '//*[@id=\"listCont\"]/div[2]/div/a[11]')\n",
    "            else:\n",
    "                next_button = driver.find_element(By.XPATH, f'//*[@id=\"listCont\"]/div[2]/div/a[{i % 10 + 2}]')\n",
    "        next_button.click()\n",
    "\n",
    "        WebDriverWait(driver, 10).until(EC.invisibility_of_element_located((By.CLASS_NAME, 'page-loading')))\n",
    "\n",
    "        for a in range(1, 72):\n",
    "            a = str(a)\n",
    "            try:\n",
    "                name = driver.find_element(By.XPATH, '//*[@id=\"listCont\"]/div[1]/ul/li[' + a + ']/div/div[2]/p[1]/a').text\n",
    "                year = driver.find_element(By.XPATH, '//*[@id=\"listCont\"]/div[1]/ul/li[' + a + ']/div/div[3]/span').text\n",
    "                fuel = driver.find_element(By.XPATH, '//*[@id=\"listCont\"]/div[1]/ul/li[' + a + ']/div/div[4]/span').text\n",
    "                km = driver.find_element(By.XPATH, '//*[@id=\"listCont\"]/div[1]/ul/li[' + a + ']/div/div[5]/span').text\n",
    "                area = driver.find_element(By.XPATH, '//*[@id=\"listCont\"]/div[1]/ul/li[' + a + ']/div/div[7]/div/div[2]/ul/li[1]/span').text\n",
    "                price = driver.find_element(By.XPATH, '//*[@id=\"listCont\"]/div[1]/ul/li[' + a + ']/div/div[6]/strong').text\n",
    "                sheet.append([name, year, fuel, km, area, price])\n",
    "            except NoSuchElementException:\n",
    "                pass\n",
    "    except NoSuchElementException:\n",
    "        break  "
   ]
  },
  {
   "cell_type": "code",
   "execution_count": 11,
   "id": "00c2fb77",
   "metadata": {},
   "outputs": [
    {
     "ename": "TimeoutException",
     "evalue": "Message: \n",
     "output_type": "error",
     "traceback": [
      "\u001b[1;31m---------------------------------------------------------------------------\u001b[0m",
      "\u001b[1;31mTimeoutException\u001b[0m                          Traceback (most recent call last)",
      "Cell \u001b[1;32mIn[11], line 22\u001b[0m\n\u001b[0;32m     19\u001b[0m         next_button \u001b[38;5;241m=\u001b[39m driver\u001b[38;5;241m.\u001b[39mfind_element(By\u001b[38;5;241m.\u001b[39mXPATH, \u001b[38;5;124mf\u001b[39m\u001b[38;5;124m'\u001b[39m\u001b[38;5;124m//*[@id=\u001b[39m\u001b[38;5;124m\"\u001b[39m\u001b[38;5;124mlistCont\u001b[39m\u001b[38;5;124m\"\u001b[39m\u001b[38;5;124m]/div[2]/div/a[\u001b[39m\u001b[38;5;132;01m{\u001b[39;00mi\u001b[38;5;250m \u001b[39m\u001b[38;5;241m%\u001b[39m\u001b[38;5;250m \u001b[39m\u001b[38;5;241m10\u001b[39m\u001b[38;5;250m \u001b[39m\u001b[38;5;241m+\u001b[39m\u001b[38;5;250m \u001b[39m\u001b[38;5;241m2\u001b[39m\u001b[38;5;132;01m}\u001b[39;00m\u001b[38;5;124m]\u001b[39m\u001b[38;5;124m'\u001b[39m)\n\u001b[0;32m     20\u001b[0m next_button\u001b[38;5;241m.\u001b[39mclick()\n\u001b[1;32m---> 22\u001b[0m \u001b[43mWebDriverWait\u001b[49m\u001b[43m(\u001b[49m\u001b[43mdriver\u001b[49m\u001b[43m,\u001b[49m\u001b[43m \u001b[49m\u001b[38;5;241;43m10\u001b[39;49m\u001b[43m)\u001b[49m\u001b[38;5;241;43m.\u001b[39;49m\u001b[43muntil\u001b[49m\u001b[43m(\u001b[49m\u001b[43mEC\u001b[49m\u001b[38;5;241;43m.\u001b[39;49m\u001b[43minvisibility_of_element_located\u001b[49m\u001b[43m(\u001b[49m\u001b[43m(\u001b[49m\u001b[43mBy\u001b[49m\u001b[38;5;241;43m.\u001b[39;49m\u001b[43mCLASS_NAME\u001b[49m\u001b[43m,\u001b[49m\u001b[43m \u001b[49m\u001b[38;5;124;43m'\u001b[39;49m\u001b[38;5;124;43mpage-loading\u001b[39;49m\u001b[38;5;124;43m'\u001b[39;49m\u001b[43m)\u001b[49m\u001b[43m)\u001b[49m\u001b[43m)\u001b[49m\n\u001b[0;32m     24\u001b[0m \u001b[38;5;28;01mfor\u001b[39;00m a \u001b[38;5;129;01min\u001b[39;00m \u001b[38;5;28mrange\u001b[39m(\u001b[38;5;241m1\u001b[39m, \u001b[38;5;241m72\u001b[39m):\n\u001b[0;32m     25\u001b[0m     a \u001b[38;5;241m=\u001b[39m \u001b[38;5;28mstr\u001b[39m(a)\n",
      "File \u001b[1;32m~\\AppData\\Local\\Programs\\Python\\Python311\\Lib\\site-packages\\selenium\\webdriver\\support\\wait.py:95\u001b[0m, in \u001b[0;36mWebDriverWait.until\u001b[1;34m(self, method, message)\u001b[0m\n\u001b[0;32m     93\u001b[0m     \u001b[38;5;28;01mif\u001b[39;00m time\u001b[38;5;241m.\u001b[39mmonotonic() \u001b[38;5;241m>\u001b[39m end_time:\n\u001b[0;32m     94\u001b[0m         \u001b[38;5;28;01mbreak\u001b[39;00m\n\u001b[1;32m---> 95\u001b[0m \u001b[38;5;28;01mraise\u001b[39;00m TimeoutException(message, screen, stacktrace)\n",
      "\u001b[1;31mTimeoutException\u001b[0m: Message: \n"
     ]
    }
   ],
   "source": [
    "from selenium.webdriver.common.by import By\n",
    "from selenium.webdriver.support.ui import WebDriverWait\n",
    "from selenium.webdriver.support import expected_conditions as EC\n",
    "from selenium.common.exceptions import NoSuchElementException \n",
    "from selenium.common.exceptions import TimeoutException\n",
    "\n",
    "sheet = []\n",
    "\n",
    "i = 1\n",
    "\n",
    "while True:\n",
    "    try:\n",
    "        if i < 11:\n",
    "            next_button = driver.find_element(By.XPATH, f'//*[@id=\"listCont\"]/div[2]/div/a[{i+1}]')\n",
    "        else:\n",
    "            if i % 10 == 0:\n",
    "                next_button = driver.find_element(By.XPATH, '//*[@id=\"listCont\"]/div[2]/div/a[11]')\n",
    "            else:\n",
    "                next_button = driver.find_element(By.XPATH, f'//*[@id=\"listCont\"]/div[2]/div/a[{i % 10 + 2}]')\n",
    "        next_button.click()\n",
    "\n",
    "        WebDriverWait(driver, 10).until(EC.invisibility_of_element_located((By.CLASS_NAME, 'page-loading')))\n",
    "\n",
    "        for a in range(1, 72):\n",
    "            a = str(a)\n",
    "            try:\n",
    "                name = driver.find_element(By.XPATH, '//*[@id=\"listCont\"]/div[1]/ul/li[' + a + ']/div/div[2]/p[1]/a').text\n",
    "                year = driver.find_element(By.XPATH, '//*[@id=\"listCont\"]/div[1]/ul/li[' + a + ']/div/div[3]/span').text\n",
    "                fuel = driver.find_element(By.XPATH, '//*[@id=\"listCont\"]/div[1]/ul/li[' + a + ']/div/div[4]/span').text\n",
    "                km = driver.find_element(By.XPATH, '//*[@id=\"listCont\"]/div[1]/ul/li[' + a + ']/div/div[5]/span').text\n",
    "                area = driver.find_element(By.XPATH, '//*[@id=\"listCont\"]/div[1]/ul/li[' + a + ']/div/div[7]/div/div[2]/ul/li[1]/span').text\n",
    "                price = driver.find_element(By.XPATH, '//*[@id=\"listCont\"]/div[1]/ul/li[' + a + ']/div/div[6]/strong').text\n",
    "                sheet.append([name, year, fuel, km, area, price])\n",
    "            except NoSuchElementException:\n",
    "                pass\n",
    "        \n",
    "        i += 1\n",
    "\n",
    "    except NoSuchElementException:\n",
    "        break"
   ]
  },
  {
   "cell_type": "code",
   "execution_count": 12,
   "id": "c9320cfe",
   "metadata": {},
   "outputs": [],
   "source": [
    "car.save(\"차량크롤링.xlsx\")"
   ]
  }
 ],
 "metadata": {
  "kernelspec": {
   "display_name": "Python 3 (ipykernel)",
   "language": "python",
   "name": "python3"
  },
  "language_info": {
   "codemirror_mode": {
    "name": "ipython",
    "version": 3
   },
   "file_extension": ".py",
   "mimetype": "text/x-python",
   "name": "python",
   "nbconvert_exporter": "python",
   "pygments_lexer": "ipython3",
   "version": "3.11.3"
  }
 },
 "nbformat": 4,
 "nbformat_minor": 5
}
